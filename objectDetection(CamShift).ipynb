{
 "cells": [
  {
   "cell_type": "code",
   "execution_count": 1,
   "metadata": {},
   "outputs": [],
   "source": [
    "import cv2\n",
    "import numpy as np"
   ]
  },
  {
   "cell_type": "code",
   "execution_count": 2,
   "metadata": {},
   "outputs": [],
   "source": [
    "vdo=cv2.VideoCapture(\"purple.mp4\")\n",
    "_, frame1=vdo.read()\n",
    "\n",
    "x,y,w,h=300,400,360,220\n",
    "roi=frame1[y:y+h,x:x+w]\n",
    "hsv_roi=cv2.cvtColor(roi,cv2.COLOR_BGR2HSV)\n",
    "\n",
    "roi_hist=cv2.calcHist([hsv_roi],[0,1],None,[180,256],[0,180,0,256])\n",
    "roi_hist=cv2.normalize(roi_hist,roi_hist,0,255,cv2.NORM_MINMAX)"
   ]
  },
  {
   "cell_type": "code",
   "execution_count": 3,
   "metadata": {},
   "outputs": [],
   "source": [
    "term_criterian = (cv2.TERM_CRITERIA_EPS | cv2.TERM_CRITERIA_COUNT, 10, 1)\n",
    "\n",
    "while vdo.isOpened():\n",
    "    _,frame=vdo.read()\n",
    "    try:\n",
    "        hsv_frame=cv2.cvtColor(frame,cv2.COLOR_BGR2HSV)\n",
    "    except:\n",
    "        break\n",
    "\n",
    "    mask = cv2.calcBackProject([hsv_frame],[0,1],roi_hist,[0,180,0,255],1)\n",
    "\n",
    "    ret, track_window = cv2.CamShift(mask,(x,y,w,h),term_criterian)\n",
    "    pts=cv2.boxPoints(ret)\n",
    "    pts = np.int0(pts)\n",
    "\n",
    "    cv2.polylines(frame,[pts],True,(0,255,0),2)\n",
    "    cv2.imshow(\"mask\",mask)\n",
    "    cv2.imshow(\"frame\",frame)\n",
    "    key=cv2.waitKey(40)\n",
    "    if key==ord('0'):\n",
    "        break\n",
    "vdo.release()\n",
    "cv2.destroyAllWindows()\n"
   ]
  },
  {
   "cell_type": "code",
   "execution_count": null,
   "metadata": {},
   "outputs": [],
   "source": []
  }
 ],
 "metadata": {
  "kernelspec": {
   "display_name": "Python 3.11.0 64-bit",
   "language": "python",
   "name": "python3"
  },
  "language_info": {
   "codemirror_mode": {
    "name": "ipython",
    "version": 3
   },
   "file_extension": ".py",
   "mimetype": "text/x-python",
   "name": "python",
   "nbconvert_exporter": "python",
   "pygments_lexer": "ipython3",
   "version": "3.11.0"
  },
  "orig_nbformat": 4,
  "vscode": {
   "interpreter": {
    "hash": "e0de91d8d476ee8cfbbe46e256a368c4b1af0dffb01b7662e27cf477fc06c1dd"
   }
  }
 },
 "nbformat": 4,
 "nbformat_minor": 2
}
